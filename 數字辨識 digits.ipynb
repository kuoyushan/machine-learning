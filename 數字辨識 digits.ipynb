{
 "cells": [
  {
   "cell_type": "code",
   "execution_count": 1,
   "metadata": {},
   "outputs": [
    {
     "name": "stdout",
     "output_type": "stream",
     "text": [
      "0.18225752969884865\n"
     ]
    }
   ],
   "source": [
    "#digits 數字\n",
    "from sklearn import datasets , cluster ,metrics\n",
    "digits=datasets.load_digits()\n",
    "digits_data=digits.data\n",
    "digitals_fit=cluster.KMeans(n_clusters=10).fit(digits_data)\n",
    "silhouette_avg=metrics.silhouette_score(digits_data,digitals_fit.labels_)\n",
    "print(silhouette_avg)"
   ]
  },
  {
   "cell_type": "code",
   "execution_count": 3,
   "metadata": {},
   "outputs": [
    {
     "data": {
      "image/png": "[encoded data removed]",
      "text/plain": [
       "<matplotlib.figure.Figure at 0xb72b8d0>"
      ]
     },
     "metadata": {},
     "output_type": "display_data"
    }
   ],
   "source": [
    "from sklearn import datasets\n",
    "import matplotlib.pyplot as plt\n",
    "digits=datasets.load_digits()\n",
    "plt.figure(1, figsize=(3,3))\n",
    "plt.imshow(digits.images[1],cmap=plt.cm.gray_r,interpolation='nearest')\n",
    "plt.show()"
   ]
  },
  {
   "cell_type": "code",
   "execution_count": 5,
   "metadata": {},
   "outputs": [
    {
     "data": {
      "image/png": "[encoded data removed]",
      "text/plain": [
       "<matplotlib.figure.Figure at 0x88a3978>"
      ]
     },
     "metadata": {},
     "output_type": "display_data"
    }
   ],
   "source": [
    "from sklearn import datasets, cluster, metrics\n",
    "from sklearn import svm\n",
    "from sklearn.cross_validation import train_test_split\n",
    "import matplotlib.pyplot as plt\n",
    "\n",
    "digits=datasets.load_digits()\n",
    "#X為資料,Y為分類結果,images為影像檔,三者都要分成train(訓練資料)與test(測試資料)\n",
    "#75%=0.75為訓練資料,25%=0.25為測試資料,random_state為亂數起值\n",
    "X_train, X_test, y_train, y_test, images_train, images_test = train_test_split(digits.data, digits.target,digits.images,test_size=0.25,random_state=42)\n",
    "\n",
    "svc_model=svm.SVC(gamma=0.001,C=100.,kernel='linear')\n",
    "svc_model.fit(X_train,y_train)\n",
    "predicted = svc_model.predict(X_test)\n",
    "images_and_predictions = list(zip(images_test,predicted))\n",
    "for index,(image,prediction)in enumerate(images_and_predictions[:5]):\n",
    "    plt.subplot(1, 5, index + 1)\n",
    "    plt.axis('off')\n",
    "    plt.imshow(image, cmap=plt.cm.binary)\n",
    "    plt.title('Predicted:'+str(prediction))\n",
    "plt.show()"
   ]
  },
  {
   "cell_type": "code",
   "execution_count": null,
   "metadata": {},
   "outputs": [],
   "source": []
  }
 ],
 "metadata": {
  "kernelspec": {
   "display_name": "Python 3",
   "language": "python",
   "name": "python3"
  },
  "language_info": {
   "codemirror_mode": {
    "name": "ipython",
    "version": 3
   },
   "file_extension": ".py",
   "mimetype": "text/x-python",
   "name": "python",
   "nbconvert_exporter": "python",
   "pygments_lexer": "ipython3",
   "version": "3.6.4"
  }
 },
 "nbformat": 4,
 "nbformat_minor": 2
}
